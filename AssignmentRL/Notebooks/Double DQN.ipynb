{
 "cells": [
  {
   "cell_type": "code",
   "execution_count": 1,
   "metadata": {},
   "outputs": [],
   "source": [
    "import DoubleDQN as ddqn"
   ]
  },
  {
   "cell_type": "code",
   "execution_count": 2,
   "metadata": {},
   "outputs": [],
   "source": [
    "parameterDictionary = {\n",
    "# CARTPOLE GAME SETTINGS    \n",
    "    'OBSERVATION_SPACE_DIMS' : 6,\n",
    "    'ACTION_SPACE' : [0,1,2],\n",
    "    \n",
    "# AGENT/NETWORK HYPERPARAMETERS\n",
    "    'EPSILON_INITIAL': 0.5,             # exploration rate\n",
    "    'EPSILON_DECAY': 0.99,\n",
    "    'EPSILON_MIN': 0.01,\n",
    "    'ALPHA': 0.001,                     # learning rate\n",
    "    'GAMMA': 0.99,                      # discount factor\n",
    "    'TAU': 0.1,                         # target network soft update hyperparameter\n",
    "    'EXPERIENCE_REPLAY_BATCH_SIZE': 32,\n",
    "    'AGENT_MEMORY_LIMIT': 2000,\n",
    "    'MIN_MEMORY_FOR_EXPERIENCE_REPLAY': 500,\n",
    "    \n",
    "#Agent test hyperparameters\n",
    "    'NUMBER_OF_TRIALS' : 10,\n",
    "    'MAX_TRAINING_EPISODES' :  2000,\n",
    "    'MAX_STEPS_PER_EPISODE' :  200,\n",
    "}"
   ]
  },
  {
   "cell_type": "code",
   "execution_count": null,
   "metadata": {},
   "outputs": [
    {
     "name": "stdout",
     "output_type": "stream",
     "text": [
      "E 1 scored 23, avg 23.00\n",
      "E 2 scored 26, avg 24.50\n",
      "E 3 scored 13, avg 20.67\n",
      "E 4 scored 33, avg 23.75\n",
      "E 5 scored 10, avg 21.00\n",
      "E 6 scored 28, avg 22.17\n",
      "E 7 scored 13, avg 20.86\n",
      "E 8 scored 15, avg 20.12\n",
      "E 9 scored 10, avg 19.00\n",
      "E 10 scored 31, avg 20.20\n",
      "E 11 scored 12, avg 19.45\n",
      "E 12 scored 15, avg 19.08\n",
      "E 13 scored 9, avg 18.31\n",
      "E 14 scored 27, avg 18.93\n",
      "E 15 scored 15, avg 18.67\n",
      "E 16 scored 10, avg 18.12\n",
      "E 17 scored 20, avg 18.24\n",
      "E 18 scored 18, avg 18.22\n",
      "E 19 scored 18, avg 18.21\n",
      "E 20 scored 22, avg 18.40\n",
      "E 21 scored 11, avg 18.05\n",
      "E 22 scored 29, avg 18.55\n",
      "E 23 scored 8, avg 18.09\n",
      "E 24 scored 14, avg 17.92\n",
      "E 25 scored 23, avg 18.12\n",
      "E 26 scored 29, avg 18.54\n",
      "E 27 scored 10, avg 18.22\n",
      "E 28 scored 11, avg 17.96\n",
      "E 29 scored 10, avg 17.69\n",
      "E 30 scored 26, avg 17.97\n",
      "E 31 scored 9, avg 17.68\n",
      "E 32 scored 11, avg 17.47\n",
      "E 33 scored 9, avg 17.21\n",
      "E 34 scored 9, avg 16.97\n",
      "E 35 scored 9, avg 16.74\n",
      "E 36 scored 11, avg 16.58\n",
      "E 37 scored 11, avg 16.43\n",
      "E 38 scored 10, avg 16.26\n",
      "E 39 scored 12, avg 16.15\n",
      "E 40 scored 14, avg 16.10\n",
      "E 41 scored 13, avg 16.02\n",
      "E 42 scored 8, avg 15.83\n",
      "E 43 scored 11, avg 15.72\n",
      "E 44 scored 9, avg 15.57\n",
      "E 45 scored 12, avg 15.49\n",
      "E 46 scored 12, avg 15.41\n",
      "E 47 scored 12, avg 15.34\n",
      "E 48 scored 10, avg 15.23\n",
      "E 49 scored 11, avg 15.14\n",
      "E 50 scored 8, avg 15.00\n",
      "E 51 scored 9, avg 14.88\n",
      "E 52 scored 9, avg 14.77\n",
      "E 53 scored 11, avg 14.70\n",
      "E 54 scored 11, avg 14.63\n",
      "E 55 scored 66, avg 15.56\n",
      "E 56 scored 16, avg 15.57\n",
      "E 57 scored 30, avg 15.82\n",
      "E 58 scored 28, avg 16.03\n",
      "E 59 scored 22, avg 16.14\n",
      "E 60 scored 78, avg 17.17\n",
      "E 61 scored 79, avg 18.18\n",
      "E 62 scored 58, avg 18.82\n"
     ]
    }
   ],
   "source": [
    "trials = ddqn.test_agent(parameterDictionary)\n",
    "# print 'Saving', file_name\n",
    "# np.save('double_dqn_cartpole_trials.npy', trials)\n",
    "# trials = np.load('double_dqn_cartpole_trials.npy')\n",
    "ddqn.plot_trials(trials)\n",
    "ddqn.plot_individual_trial(trials[1])\n",
    "    "
   ]
  },
  {
   "cell_type": "code",
   "execution_count": null,
   "metadata": {},
   "outputs": [],
   "source": []
  }
 ],
 "metadata": {
  "kernelspec": {
   "display_name": "Python 3",
   "language": "python",
   "name": "python3"
  },
  "language_info": {
   "codemirror_mode": {
    "name": "ipython",
    "version": 3
   },
   "file_extension": ".py",
   "mimetype": "text/x-python",
   "name": "python",
   "nbconvert_exporter": "python",
   "pygments_lexer": "ipython3",
   "version": "3.8.8"
  }
 },
 "nbformat": 4,
 "nbformat_minor": 4
}
