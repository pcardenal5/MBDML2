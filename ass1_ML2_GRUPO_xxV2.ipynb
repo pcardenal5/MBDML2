{
 "cells": [
  {
   "attachments": {},
   "cell_type": "markdown",
   "id": "f9b0debb",
   "metadata": {},
   "source": [
    "# TRABAJO 1: ENSEMBLE LEARNING | MACHINE LEARNING II\n",
    "## Feb 2023\n",
    "--- "
   ]
  },
  {
   "attachments": {},
   "cell_type": "markdown",
   "id": "ec06e9d7",
   "metadata": {},
   "source": [
    "### GRUPO: 6\n",
    "- Pablo Pérez González-Alberto\n",
    "- Juan Miguel Ramos Pugnaire\n",
    "- Andrés Canalejo Oliva\n",
    "- Pablo Cardenal Real de Asúa"
   ]
  },
  {
   "attachments": {},
   "cell_type": "markdown",
   "id": "b4d68d7d",
   "metadata": {},
   "source": [
    "--- \n",
    "\n",
    "**IMPORTANTE:**\n",
    "- Asegúrate, fijando la semilla de los nº aleatorios según proceda, que si se vuelve a ejecutar el cuaderno los resultados son idénticos\n",
    "- Responde a las preguntas planteadas utilizando instrucciones \"print\" que permitan leer cómodamente como resultado de la ejecución de la celda el texto explicativo junto a las figuras o tablas a las que haga referencia (mira el ejemplo en la primera gráfica que se representa). También puedes usar markdown para responder.\n",
    "- No escribas líneas de código muy largas, tienes una regla para ayudarte a no hacerlo\n",
    "- No cambies la estructura del documento, respeta las secciones que ya existen\n"
   ]
  },
  {
   "attachments": {},
   "cell_type": "markdown",
   "id": "21c3c680-0f5a-4bd3-b36a-fbe8e14c4c63",
   "metadata": {
    "tags": []
   },
   "source": [
    "---\n",
    "Importamos todos los paquetes aquí por comodidad"
   ]
  },
  {
   "cell_type": "code",
   "execution_count": 1,
   "id": "38c25a79-17ab-40dc-9623-2d754e995e3e",
   "metadata": {
    "tags": []
   },
   "outputs": [],
   "source": [
    "#-------------------------- NO ESCRIBAS LÍNEAS DE CÓDIGO MÁS LARGAS QUE LO QUE OCUPA ESTA LÍNEA -----------------------------|\n",
    "import numpy as np\n",
    "import matplotlib.pyplot as plt\n",
    "import seaborn as sns\n",
    "import pandas as pd\n",
    "\n",
    "from sklearn.pipeline import Pipeline, make_pipeline\n",
    "from sklearn import metrics\n",
    "from sklearn.model_selection import train_test_split, GridSearchCV, cross_val_score\n",
    "from sklearn.ensemble import RandomForestClassifier\n",
    "from sklearn.ensemble import VotingClassifier, StackingClassifier\n",
    "from sklearn.ensemble import GradientBoostingClassifier\n",
    "from sklearn.metrics import ConfusionMatrixDisplay, confusion_matrix\n",
    "from sklearn.preprocessing import StandardScaler\n",
    "from sklearn.compose import ColumnTransformer\n",
    "\n",
    "\n",
    "from sklearn.tree import DecisionTreeClassifier, plot_tree, export_text\n",
    "from sklearn.inspection import permutation_importance\n",
    "from sklearn.ensemble import BaggingClassifier\n",
    "from sklearn.decomposition import PCA\n",
    "\n",
    "from mltools import model_tools as MT\n",
    "from mltools import classification_tools as CT"
   ]
  },
  {
   "attachments": {},
   "cell_type": "markdown",
   "id": "d72fdb28-3578-481f-aa74-dfbfb90ff75d",
   "metadata": {
    "tags": []
   },
   "source": [
    "### 1. AJUSTE DE LOS MODELOS CON EL DATASET AJU_DATOS_DEM_C3"
   ]
  },
  {
   "attachments": {},
   "cell_type": "markdown",
   "id": "1c948753",
   "metadata": {},
   "source": [
    "Se trata de estimar la variable FESTIVO (1: el día es festivo) a partir de las variables disponibles en el dataset que se consideren oportunas. NO se pueden utilizar como variables de entrada: FECHA, DIA ni ANNO. La FECHA es interesante manejarla simplemente como ayuda para entender lo que esté pasando.\n",
    "\n",
    "Se deben ajustar diferentes modelos, buscando un buen compromiso entre la complejidad y el error en cada uno de ellos. El objetivo es conseguir un buen modelo con una gran capacidad de acierto en el futuro. Modelos que deben crearse, analizando los resultados de cada uno de ellos (errores e importancias de las variables):\n",
    "- Simple tree\n",
    "- Bagged  tree\n",
    "- Random Forest\n",
    "- Gradient boosting\n",
    "- Stacking"
   ]
  },
  {
   "attachments": {},
   "cell_type": "markdown",
   "id": "e5722610",
   "metadata": {},
   "source": [
    "Carga de datos"
   ]
  },
  {
   "cell_type": "code",
   "execution_count": 2,
   "id": "acea874d-ae44-4d38-8dc6-a58dbfd03e79",
   "metadata": {
    "tags": []
   },
   "outputs": [
    {
     "name": "stdout",
     "output_type": "stream",
     "text": [
      "Tamaño de df_orig con los datos cargados: (2879, 30)\n",
      "Dataframe con todos los datos leidos (filas: días, columnas: variables):\n"
     ]
    },
    {
     "data": {
      "text/html": [
       "<div>\n",
       "<style scoped>\n",
       "    .dataframe tbody tr th:only-of-type {\n",
       "        vertical-align: middle;\n",
       "    }\n",
       "\n",
       "    .dataframe tbody tr th {\n",
       "        vertical-align: top;\n",
       "    }\n",
       "\n",
       "    .dataframe thead th {\n",
       "        text-align: right;\n",
       "    }\n",
       "</style>\n",
       "<table border=\"1\" class=\"dataframe\">\n",
       "  <thead>\n",
       "    <tr style=\"text-align: right;\">\n",
       "      <th></th>\n",
       "      <th>FECHA</th>\n",
       "      <th>CR00</th>\n",
       "      <th>CR01</th>\n",
       "      <th>CR02</th>\n",
       "      <th>CR03</th>\n",
       "      <th>CR04</th>\n",
       "      <th>CR05</th>\n",
       "      <th>CR06</th>\n",
       "      <th>CR07</th>\n",
       "      <th>CR08</th>\n",
       "      <th>...</th>\n",
       "      <th>CR19</th>\n",
       "      <th>CR20</th>\n",
       "      <th>CR21</th>\n",
       "      <th>CR22</th>\n",
       "      <th>CR23</th>\n",
       "      <th>MES</th>\n",
       "      <th>DIASEM</th>\n",
       "      <th>FESTIVO</th>\n",
       "      <th>TMIN</th>\n",
       "      <th>TMAX</th>\n",
       "    </tr>\n",
       "  </thead>\n",
       "  <tbody>\n",
       "    <tr>\n",
       "      <th>0</th>\n",
       "      <td>2014-01-01</td>\n",
       "      <td>0.040942</td>\n",
       "      <td>0.038985</td>\n",
       "      <td>0.036382</td>\n",
       "      <td>0.034416</td>\n",
       "      <td>0.033409</td>\n",
       "      <td>0.033420</td>\n",
       "      <td>0.034054</td>\n",
       "      <td>0.034229</td>\n",
       "      <td>0.035889</td>\n",
       "      <td>...</td>\n",
       "      <td>0.055197</td>\n",
       "      <td>0.054185</td>\n",
       "      <td>0.051063</td>\n",
       "      <td>0.046240</td>\n",
       "      <td>0.041000</td>\n",
       "      <td>1</td>\n",
       "      <td>3</td>\n",
       "      <td>1</td>\n",
       "      <td>12.3</td>\n",
       "      <td>20.2</td>\n",
       "    </tr>\n",
       "    <tr>\n",
       "      <th>1</th>\n",
       "      <td>2014-01-02</td>\n",
       "      <td>0.033950</td>\n",
       "      <td>0.030996</td>\n",
       "      <td>0.029517</td>\n",
       "      <td>0.028966</td>\n",
       "      <td>0.029165</td>\n",
       "      <td>0.030150</td>\n",
       "      <td>0.032944</td>\n",
       "      <td>0.036510</td>\n",
       "      <td>0.041196</td>\n",
       "      <td>...</td>\n",
       "      <td>0.055820</td>\n",
       "      <td>0.054451</td>\n",
       "      <td>0.051482</td>\n",
       "      <td>0.046145</td>\n",
       "      <td>0.040880</td>\n",
       "      <td>1</td>\n",
       "      <td>4</td>\n",
       "      <td>0</td>\n",
       "      <td>12.0</td>\n",
       "      <td>20.1</td>\n",
       "    </tr>\n",
       "    <tr>\n",
       "      <th>2</th>\n",
       "      <td>2014-01-03</td>\n",
       "      <td>0.035463</td>\n",
       "      <td>0.032112</td>\n",
       "      <td>0.030292</td>\n",
       "      <td>0.029521</td>\n",
       "      <td>0.029450</td>\n",
       "      <td>0.030515</td>\n",
       "      <td>0.033188</td>\n",
       "      <td>0.036656</td>\n",
       "      <td>0.041052</td>\n",
       "      <td>...</td>\n",
       "      <td>0.055230</td>\n",
       "      <td>0.053520</td>\n",
       "      <td>0.050286</td>\n",
       "      <td>0.045412</td>\n",
       "      <td>0.040025</td>\n",
       "      <td>1</td>\n",
       "      <td>5</td>\n",
       "      <td>0</td>\n",
       "      <td>13.2</td>\n",
       "      <td>21.0</td>\n",
       "    </tr>\n",
       "    <tr>\n",
       "      <th>3</th>\n",
       "      <td>2014-01-04</td>\n",
       "      <td>0.035959</td>\n",
       "      <td>0.032772</td>\n",
       "      <td>0.031034</td>\n",
       "      <td>0.030178</td>\n",
       "      <td>0.030135</td>\n",
       "      <td>0.030782</td>\n",
       "      <td>0.032598</td>\n",
       "      <td>0.034982</td>\n",
       "      <td>0.039299</td>\n",
       "      <td>...</td>\n",
       "      <td>0.053757</td>\n",
       "      <td>0.052620</td>\n",
       "      <td>0.049973</td>\n",
       "      <td>0.044970</td>\n",
       "      <td>0.040386</td>\n",
       "      <td>1</td>\n",
       "      <td>6</td>\n",
       "      <td>0</td>\n",
       "      <td>14.4</td>\n",
       "      <td>23.4</td>\n",
       "    </tr>\n",
       "    <tr>\n",
       "      <th>4</th>\n",
       "      <td>2014-01-05</td>\n",
       "      <td>0.037506</td>\n",
       "      <td>0.034148</td>\n",
       "      <td>0.031878</td>\n",
       "      <td>0.031126</td>\n",
       "      <td>0.030930</td>\n",
       "      <td>0.031604</td>\n",
       "      <td>0.033066</td>\n",
       "      <td>0.034803</td>\n",
       "      <td>0.038758</td>\n",
       "      <td>...</td>\n",
       "      <td>0.052902</td>\n",
       "      <td>0.051481</td>\n",
       "      <td>0.049655</td>\n",
       "      <td>0.045730</td>\n",
       "      <td>0.040905</td>\n",
       "      <td>1</td>\n",
       "      <td>7</td>\n",
       "      <td>0</td>\n",
       "      <td>12.8</td>\n",
       "      <td>23.1</td>\n",
       "    </tr>\n",
       "    <tr>\n",
       "      <th>...</th>\n",
       "      <td>...</td>\n",
       "      <td>...</td>\n",
       "      <td>...</td>\n",
       "      <td>...</td>\n",
       "      <td>...</td>\n",
       "      <td>...</td>\n",
       "      <td>...</td>\n",
       "      <td>...</td>\n",
       "      <td>...</td>\n",
       "      <td>...</td>\n",
       "      <td>...</td>\n",
       "      <td>...</td>\n",
       "      <td>...</td>\n",
       "      <td>...</td>\n",
       "      <td>...</td>\n",
       "      <td>...</td>\n",
       "      <td>...</td>\n",
       "      <td>...</td>\n",
       "      <td>...</td>\n",
       "      <td>...</td>\n",
       "      <td>...</td>\n",
       "    </tr>\n",
       "    <tr>\n",
       "      <th>2874</th>\n",
       "      <td>2021-12-27</td>\n",
       "      <td>0.033180</td>\n",
       "      <td>0.031299</td>\n",
       "      <td>0.030173</td>\n",
       "      <td>0.029493</td>\n",
       "      <td>0.029649</td>\n",
       "      <td>0.030814</td>\n",
       "      <td>0.033925</td>\n",
       "      <td>0.037837</td>\n",
       "      <td>0.042098</td>\n",
       "      <td>...</td>\n",
       "      <td>0.051685</td>\n",
       "      <td>0.050563</td>\n",
       "      <td>0.047267</td>\n",
       "      <td>0.042237</td>\n",
       "      <td>0.037797</td>\n",
       "      <td>12</td>\n",
       "      <td>1</td>\n",
       "      <td>0</td>\n",
       "      <td>16.1</td>\n",
       "      <td>23.0</td>\n",
       "    </tr>\n",
       "    <tr>\n",
       "      <th>2875</th>\n",
       "      <td>2021-12-28</td>\n",
       "      <td>0.033823</td>\n",
       "      <td>0.031731</td>\n",
       "      <td>0.030385</td>\n",
       "      <td>0.029950</td>\n",
       "      <td>0.030017</td>\n",
       "      <td>0.031203</td>\n",
       "      <td>0.034708</td>\n",
       "      <td>0.038432</td>\n",
       "      <td>0.042645</td>\n",
       "      <td>...</td>\n",
       "      <td>0.051867</td>\n",
       "      <td>0.050971</td>\n",
       "      <td>0.047718</td>\n",
       "      <td>0.042585</td>\n",
       "      <td>0.037774</td>\n",
       "      <td>12</td>\n",
       "      <td>2</td>\n",
       "      <td>0</td>\n",
       "      <td>16.6</td>\n",
       "      <td>22.7</td>\n",
       "    </tr>\n",
       "    <tr>\n",
       "      <th>2876</th>\n",
       "      <td>2021-12-29</td>\n",
       "      <td>0.034475</td>\n",
       "      <td>0.032198</td>\n",
       "      <td>0.030902</td>\n",
       "      <td>0.030441</td>\n",
       "      <td>0.030384</td>\n",
       "      <td>0.031487</td>\n",
       "      <td>0.034454</td>\n",
       "      <td>0.038381</td>\n",
       "      <td>0.042850</td>\n",
       "      <td>...</td>\n",
       "      <td>0.052136</td>\n",
       "      <td>0.050604</td>\n",
       "      <td>0.046788</td>\n",
       "      <td>0.042033</td>\n",
       "      <td>0.037595</td>\n",
       "      <td>12</td>\n",
       "      <td>3</td>\n",
       "      <td>0</td>\n",
       "      <td>14.3</td>\n",
       "      <td>21.3</td>\n",
       "    </tr>\n",
       "    <tr>\n",
       "      <th>2877</th>\n",
       "      <td>2021-12-30</td>\n",
       "      <td>0.034345</td>\n",
       "      <td>0.031919</td>\n",
       "      <td>0.030524</td>\n",
       "      <td>0.029991</td>\n",
       "      <td>0.030087</td>\n",
       "      <td>0.031286</td>\n",
       "      <td>0.034384</td>\n",
       "      <td>0.038574</td>\n",
       "      <td>0.042778</td>\n",
       "      <td>...</td>\n",
       "      <td>0.052092</td>\n",
       "      <td>0.050993</td>\n",
       "      <td>0.047587</td>\n",
       "      <td>0.042807</td>\n",
       "      <td>0.038252</td>\n",
       "      <td>12</td>\n",
       "      <td>4</td>\n",
       "      <td>0</td>\n",
       "      <td>13.4</td>\n",
       "      <td>26.4</td>\n",
       "    </tr>\n",
       "    <tr>\n",
       "      <th>2878</th>\n",
       "      <td>2021-12-31</td>\n",
       "      <td>0.034436</td>\n",
       "      <td>0.032016</td>\n",
       "      <td>0.030717</td>\n",
       "      <td>0.030135</td>\n",
       "      <td>0.030156</td>\n",
       "      <td>0.030063</td>\n",
       "      <td>0.033062</td>\n",
       "      <td>0.036489</td>\n",
       "      <td>0.041408</td>\n",
       "      <td>...</td>\n",
       "      <td>0.054776</td>\n",
       "      <td>0.052648</td>\n",
       "      <td>0.047997</td>\n",
       "      <td>0.042389</td>\n",
       "      <td>0.038534</td>\n",
       "      <td>12</td>\n",
       "      <td>5</td>\n",
       "      <td>0</td>\n",
       "      <td>15.5</td>\n",
       "      <td>24.9</td>\n",
       "    </tr>\n",
       "  </tbody>\n",
       "</table>\n",
       "<p>2879 rows × 30 columns</p>\n",
       "</div>"
      ],
      "text/plain": [
       "           FECHA      CR00      CR01      CR02      CR03      CR04      CR05  \\\n",
       "0     2014-01-01  0.040942  0.038985  0.036382  0.034416  0.033409  0.033420   \n",
       "1     2014-01-02  0.033950  0.030996  0.029517  0.028966  0.029165  0.030150   \n",
       "2     2014-01-03  0.035463  0.032112  0.030292  0.029521  0.029450  0.030515   \n",
       "3     2014-01-04  0.035959  0.032772  0.031034  0.030178  0.030135  0.030782   \n",
       "4     2014-01-05  0.037506  0.034148  0.031878  0.031126  0.030930  0.031604   \n",
       "...          ...       ...       ...       ...       ...       ...       ...   \n",
       "2874  2021-12-27  0.033180  0.031299  0.030173  0.029493  0.029649  0.030814   \n",
       "2875  2021-12-28  0.033823  0.031731  0.030385  0.029950  0.030017  0.031203   \n",
       "2876  2021-12-29  0.034475  0.032198  0.030902  0.030441  0.030384  0.031487   \n",
       "2877  2021-12-30  0.034345  0.031919  0.030524  0.029991  0.030087  0.031286   \n",
       "2878  2021-12-31  0.034436  0.032016  0.030717  0.030135  0.030156  0.030063   \n",
       "\n",
       "          CR06      CR07      CR08  ...      CR19      CR20      CR21  \\\n",
       "0     0.034054  0.034229  0.035889  ...  0.055197  0.054185  0.051063   \n",
       "1     0.032944  0.036510  0.041196  ...  0.055820  0.054451  0.051482   \n",
       "2     0.033188  0.036656  0.041052  ...  0.055230  0.053520  0.050286   \n",
       "3     0.032598  0.034982  0.039299  ...  0.053757  0.052620  0.049973   \n",
       "4     0.033066  0.034803  0.038758  ...  0.052902  0.051481  0.049655   \n",
       "...        ...       ...       ...  ...       ...       ...       ...   \n",
       "2874  0.033925  0.037837  0.042098  ...  0.051685  0.050563  0.047267   \n",
       "2875  0.034708  0.038432  0.042645  ...  0.051867  0.050971  0.047718   \n",
       "2876  0.034454  0.038381  0.042850  ...  0.052136  0.050604  0.046788   \n",
       "2877  0.034384  0.038574  0.042778  ...  0.052092  0.050993  0.047587   \n",
       "2878  0.033062  0.036489  0.041408  ...  0.054776  0.052648  0.047997   \n",
       "\n",
       "          CR22      CR23  MES  DIASEM  FESTIVO  TMIN  TMAX  \n",
       "0     0.046240  0.041000    1       3        1  12.3  20.2  \n",
       "1     0.046145  0.040880    1       4        0  12.0  20.1  \n",
       "2     0.045412  0.040025    1       5        0  13.2  21.0  \n",
       "3     0.044970  0.040386    1       6        0  14.4  23.4  \n",
       "4     0.045730  0.040905    1       7        0  12.8  23.1  \n",
       "...        ...       ...  ...     ...      ...   ...   ...  \n",
       "2874  0.042237  0.037797   12       1        0  16.1  23.0  \n",
       "2875  0.042585  0.037774   12       2        0  16.6  22.7  \n",
       "2876  0.042033  0.037595   12       3        0  14.3  21.3  \n",
       "2877  0.042807  0.038252   12       4        0  13.4  26.4  \n",
       "2878  0.042389  0.038534   12       5        0  15.5  24.9  \n",
       "\n",
       "[2879 rows x 30 columns]"
      ]
     },
     "execution_count": 2,
     "metadata": {},
     "output_type": "execute_result"
    }
   ],
   "source": [
    "#-------------------------- NO ESCRIBAS LÍNEAS DE CÓDIGO MÁS LARGAS QUE LO QUE OCUPA ESTA LÍNEA -----------------------------|\n",
    "\n",
    "df_aju = pd.read_csv('AJU_DATOS_DEM_C3.csv')\n",
    "\n",
    "# parseamos la fecha (cadena) para que sea un datetime con formato dd/mm/yyyy \n",
    "# esta variable NO se puede utilizar como entrada en los modelos\n",
    "df_aju.FECHA = pd.to_datetime(df_aju.FECHA, format='%d/%m/%Y') \n",
    "s=df_aju.loc[:,'FECHA']\n",
    "df_aju['FECHA'] =  s.dt.date\n",
    "\n",
    "# eliminamos las variables que no se pueden usar como entradas en los modelos\n",
    "del df_aju['ANNO']\n",
    "del df_aju['DIA']\n",
    "\n",
    "print('Tamaño de df_orig con los datos cargados:', df_aju.shape)\n",
    "print('Dataframe con todos los datos leidos (filas: días, columnas: variables):')\n",
    "df_aju"
   ]
  },
  {
   "attachments": {},
   "cell_type": "markdown",
   "id": "336e4e89-e14b-410d-9a81-28d0d7a7a956",
   "metadata": {
    "tags": []
   },
   "source": [
    "Visión general de las series"
   ]
  },
  {
   "cell_type": "code",
   "execution_count": 3,
   "id": "43d40fd1-9c72-4aab-b7b8-f7ffa3ad756c",
   "metadata": {},
   "outputs": [
    {
     "data": {
      "image/png": "[encoded data removed]",
      "text/plain": [
       "<Figure size 1152x648 with 2 Axes>"
      ]
     },
     "metadata": {
      "needs_background": "light"
     },
     "output_type": "display_data"
    },
    {
     "name": "stdout",
     "output_type": "stream",
     "text": [
      "Se observa que el nº de festivos (115) es claramente inferior al nº de laborables (2764)\n",
      "En concreto, el porcentaje de festivos en el conjunto de ajuste es 3.99444251476207 %\n"
     ]
    }
   ],
   "source": [
    "#-------------------------- NO ESCRIBAS LÍNEAS DE CÓDIGO MÁS LARGAS QUE LO QUE OCUPA ESTA LÍNEA -----------------------------|\n",
    "fig = plt.figure(1, figsize=(16,9))\n",
    "ax1 = plt.subplot(2,1,1)\n",
    "\n",
    "ind_festivo = df_aju.FESTIVO == 1\n",
    "\n",
    "plt.plot(df_aju.FECHA, df_aju.CR12, label='CR12')\n",
    "\n",
    "plt.plot(df_aju.FECHA[ind_festivo], df_aju.CR12[ind_festivo], 'sr', label='CR12 festivos')\n",
    "plt.legend()\n",
    "\n",
    "plt.subplot(2,1,2,sharex= ax1)\n",
    "plt.plot(df_aju.FECHA, df_aju.TMAX, label='TMAX')\n",
    "plt.plot(df_aju.FECHA, df_aju.TMIN, label='TMIN')\n",
    "plt.tight_layout()\n",
    "plt.legend()\n",
    "\n",
    "plt.show()\n",
    "\n",
    "num_festivos = np.count_nonzero(df_aju.FESTIVO)\n",
    "num_laborables = df_aju.shape[0] - num_festivos\n",
    "print(f'Se observa que el nº de festivos ({num_festivos}) es claramente inferior al nº de laborables ({num_laborables})')\n",
    "print(f'En concreto, el porcentaje de festivos en el conjunto de ajuste es {100*num_festivos /  df_aju.shape[0]} %')\n",
    "# fig.savefig('figura1.pdf')"
   ]
  },
  {
   "attachments": {},
   "cell_type": "markdown",
   "id": "4b28a3c2",
   "metadata": {},
   "source": [
    "---\n",
    "### 1.1 Análisis exploratorio básico del problema\n",
    "\n",
    "- Incluye un análisis que te permita comprender la naturaleza del problema, cómo son las variables de entrada, su interrelación, así como su relación con la variable de salida\n",
    "- Comenta todo lo que parezca relevante para el tema tratado, incluyendo todas las gráficas que consideres oportunas\n",
    "- Estudia cómo se reparten los festivos según el día de la semana y los meses"
   ]
  },
  {
   "cell_type": "code",
   "execution_count": 4,
   "id": "543955d6",
   "metadata": {},
   "outputs": [],
   "source": [
    "#sns.pairplot(df_aju, hue='FESTIVO')"
   ]
  },
  {
   "cell_type": "code",
   "execution_count": 5,
   "id": "8d6b222f",
   "metadata": {},
   "outputs": [],
   "source": [
    "#-------------------------- NO ESCRIBAS LÍNEAS DE CÓDIGO MÁS LARGAS QUE LO QUE OCUPA ESTA LÍNEA -----------------------------|\n",
    "\n",
    "#print('\\nInfo variables:')\n",
    "#print(df_aju.describe())\n",
    "#\n",
    "#g = sns.PairGrid(df_aju, hue=\"FESTIVO\")\n",
    "#g.map_diag(sns.histplot)\n",
    "##g.map_offdiag(sns.scatterplot)\n",
    "#g.map_upper(sns.scatterplot)\n",
    "#g.map_lower(sns.kdeplot)\n",
    "#g.add_legend()"
   ]
  },
  {
   "attachments": {},
   "cell_type": "markdown",
   "id": "cddb7885",
   "metadata": {},
   "source": [
    "#### Prepara los conjuntos de entrenamiento y test\n",
    "\n",
    "- Divide los datos disponibles de ajuste (df_aju) en dos conjuntos diferentes (TR:80% y TS: 20%). TS lo deberías de utilizar para validar la calidad de los diferentes modelos que se creen.\n",
    "- Recuerda fijar una semilla para garantizar que la separación es reproducible"
   ]
  },
  {
   "cell_type": "code",
   "execution_count": 6,
   "id": "669733ff",
   "metadata": {},
   "outputs": [],
   "source": [
    "#-------------------------- NO ESCRIBAS LÍNEAS DE CÓDIGO MÁS LARGAS QUE LO QUE OCUPA ESTA LÍNEA -----------------------------|\n",
    "df_aju.FESTIVO = df_aju.FESTIVO.astype('category')\n",
    "# Crea dos dataframes df_aju_tr y df_aju_ts y trabaja con ellos\n",
    "# Define input and output matrices\n",
    "INPUTS = ['CR00', 'CR01', 'CR02', 'CR03', 'CR04', 'CR05', 'CR06', 'CR07',\n",
    "       'CR08', 'CR09', 'CR10', 'CR11', 'CR12', 'CR13', 'CR14', 'CR15', 'CR16',\n",
    "       'CR17', 'CR18', 'CR19', 'CR20', 'CR21', 'CR22', 'CR23', 'MES', 'DIASEM', \n",
    "       'TMIN', 'TMAX']\n",
    "OUTPUT = 'FESTIVO'\n",
    "X = df_aju[INPUTS]\n",
    "y = df_aju[OUTPUT]\n",
    "\n",
    "# Split\n",
    "X_train, X_test, y_train, y_test = train_test_split(X, y,\n",
    "                                                    test_size=0.2,  #percentage of test data\n",
    "                                                    random_state=0, #seed for replication\n",
    "                                                    stratify = y)   #Preserves distribution of y"
   ]
  },
  {
   "attachments": {},
   "cell_type": "markdown",
   "id": "29eacbaa",
   "metadata": {},
   "source": [
    "#### 1.2. Ajusta un modelo de clasificación sencillo que sea robusto y que pueda servir de referencia de comparación con otros modelos más complejos.\n",
    "\n",
    "- Optimiza la complejidad\n",
    "- Revisa los errores en TR y TS, la matrices de confusión, y verifica la capacidad de generación\n",
    "- Analiza la lógica que emplea para determinar si es festivo\n",
    "- Revisa la importancia de las variables"
   ]
  },
  {
   "cell_type": "code",
   "execution_count": 7,
   "id": "0d64d536",
   "metadata": {},
   "outputs": [],
   "source": [
    "#-------------------------- NO ESCRIBAS LÍNEAS DE CÓDIGO MÁS LARGAS QUE LO QUE OCUPA ESTA LÍNEA -----------------------------|\n",
    "## Inputs of the model\n",
    "INPUTS_DT = INPUTS\n",
    "\n",
    "# grid in min_impurity x min_samples_leaf x min_samples_split\n",
    "param = {'DT__min_impurity_decrease': np.arange(0,0.05,0.005), # Minimum entropy to decrease in each split\n",
    "         'DT__min_samples_leaf': np.arange(1,10,1), # Minimum number of obs in a terminal node\n",
    "         'DT__min_samples_split':  np.arange(1,10,1)} # Minimum number of obs in node to keep cutting\n",
    "\n",
    "# param = {'DT__min_impurity_decrease': np.arange(0,0.05,0.005)} # Minimum entropy to decrease in each split\n",
    "\n",
    "pipe = Pipeline(steps=[('DT', DecisionTreeClassifier(criterion='gini',  # impurity measure\n",
    "                                                     random_state=150))]) # For replication\n",
    "                                                     \n",
    "# We use Grid Search Cross Validation to find the best parameter for the model in the grid defined \n",
    "nFolds = 10\n",
    "tree_fit = GridSearchCV(estimator=pipe, # Structure of the model to use\n",
    "                       param_grid=param, # Defined grid to search in\n",
    "                       n_jobs=-1, # Number of cores to use (parallelize)\n",
    "                       scoring='accuracy', # Accuracy https://scikit-learn.org/stable/modules/model_evaluation.html\n",
    "                       cv=nFolds) # Number of Folds \n",
    "tree_fit.fit(X_train[INPUTS_DT], y_train) # Search in grid"
   ]
  },
  {
   "cell_type": "code",
   "execution_count": null,
   "id": "13f28442",
   "metadata": {},
   "outputs": [],
   "source": [
    "# Show the best grid parameter combination found by CV\n",
    "tree_fit.best_estimator_['DT'].get_params()"
   ]
  },
  {
   "cell_type": "code",
   "execution_count": null,
   "id": "9d4e9616",
   "metadata": {},
   "outputs": [],
   "source": [
    "## Plot the decision tree model (use figsize and fontsize for getting the best view)\n",
    "plt.figure(figsize=(20, 10))\n",
    "plot_tree(tree_fit.best_estimator_['DT'],\n",
    "          feature_names= INPUTS_DT,\n",
    "          class_names= [str(s) for s in y_train.unique()],\n",
    "          fontsize=5, filled=True)\n",
    "plt.show()"
   ]
  },
  {
   "cell_type": "code",
   "execution_count": null,
   "id": "1af2f5dc",
   "metadata": {},
   "outputs": [],
   "source": [
    "# Easy reading of the tree\n",
    "print(export_text(tree_fit.best_estimator_['DT'], feature_names= INPUTS_DT))"
   ]
  },
  {
   "cell_type": "code",
   "execution_count": null,
   "id": "fa6d2df8",
   "metadata": {},
   "outputs": [],
   "source": [
    "# model predictions in training (TR) and test (TS) sets\n",
    "clf = tree_fit.best_estimator_['DT']\n",
    "y_train_pred = clf.predict(X_train[INPUTS_DT]).tolist()\n",
    "y_test_pred = clf.predict(X_test[INPUTS_DT]).tolist()\n",
    "\n",
    "# main metrics\n",
    "acc_tr = metrics.accuracy_score(y_train,y_train_pred)\n",
    "acc_ts = metrics.accuracy_score(y_test,y_test_pred)\n",
    "\n",
    "acc_bal_tr = metrics.balanced_accuracy_score(y_train,y_train_pred)\n",
    "acc_bal_ts = metrics.balanced_accuracy_score(y_test,y_test_pred)\n",
    "\n",
    "dfacc_DT =  pd.DataFrame([[acc_tr, acc_ts], [acc_bal_tr, acc_bal_ts]], index= ['Accuracy', 'Balanced accuracy'],  columns=['TR', 'TS'])\n",
    "print(dfacc_DT)\n",
    "\n",
    "print('\\nMETRICS TRAINING:')\n",
    "CT.confusion_matrix(y_train, y_train_pred, labels=[1,0])\n",
    "print('\\nMETRICS TEST SET:')\n",
    "CT.confusion_matrix(y_test, y_test_pred, labels=[1,0])"
   ]
  },
  {
   "cell_type": "code",
   "execution_count": null,
   "id": "8850a9c7",
   "metadata": {},
   "outputs": [],
   "source": [
    "fig = plt.figure(figsize=(15, 15))\n",
    "\n",
    "ax = plt.subplot(2,2,1)\n",
    "ConfusionMatrixDisplay.from_estimator(clf, X_train, y_train, ax = ax)\n",
    "plt.title ('TRAINING SET')\n",
    "\n",
    "ax = plt.subplot(2,2,2)\n",
    "ConfusionMatrixDisplay.from_estimator(clf, X_test, y_test, ax = ax)\n",
    "plt.title ('TEST SET')\n",
    "\n",
    "ax = plt.subplot(2,2,3)\n",
    "ConfusionMatrixDisplay.from_estimator(clf, X_train, y_train, ax = ax, normalize = 'true')\n",
    "plt.title ('TRAINING SET (Normalized True values)')\n",
    "\n",
    "ax = plt.subplot(2,2,4)\n",
    "ConfusionMatrixDisplay.from_estimator(clf, X_test, y_test, ax = ax, normalize = 'true')\n",
    "plt.title ('TEST SET (Normalized True values)')\n",
    "\n",
    "plt.show()"
   ]
  },
  {
   "cell_type": "code",
   "execution_count": null,
   "id": "5497ecba",
   "metadata": {},
   "outputs": [],
   "source": [
    "CT.plotClassPerformance(y_test, clf.predict_proba(X_test[INPUTS_DT]), selClass=1)"
   ]
  },
  {
   "cell_type": "code",
   "execution_count": null,
   "id": "4b1ca690",
   "metadata": {},
   "outputs": [],
   "source": [
    "## Plot the variable importance of each feature\n",
    "plt.figure(figsize=(16, 9))\n",
    "bar_width = 0.35\n",
    "plt.bar(INPUTS_DT, tree_fit.best_estimator_['DT'].feature_importances_, color='black', alpha=0.5)\n",
    "plt.xlabel('features')\n",
    "plt.ylabel('Importance')\n",
    "plt.show()"
   ]
  },
  {
   "attachments": {},
   "cell_type": "markdown",
   "id": "03852bf9",
   "metadata": {},
   "source": [
    "#### 1.3. Ajusta un bagged tree para resolver el problema planteado.\n",
    "\n",
    "- Optimiza la complejidad\n",
    "- Revisa los errores en TR y TS, la matrices de confusión, y verifica la capacidad de generación\n",
    "- Revisa la importancia de las variables"
   ]
  },
  {
   "cell_type": "code",
   "execution_count": null,
   "id": "0a923d45",
   "metadata": {},
   "outputs": [],
   "source": [
    "number_estimators = 50\n",
    "base_estimator =  Pipeline(steps=[('DT', \n",
    "                                    DecisionTreeClassifier( criterion='gini',  # impurity measure\n",
    "                                                            min_samples_split=2, # Minimum number of obs in node to keep cutting\n",
    "                                                            min_samples_leaf=1, # Minimum number of obs in a terminal node\n",
    "                                                            random_state=150))])\n",
    "\n",
    "bag_class_estim = BaggingClassifier(base_estimator=base_estimator,\n",
    "                                    n_estimators=number_estimators,\n",
    "                                    random_state=150)\n",
    "\n",
    "# fit the bagged trees\n",
    "INPUTS_BT = INPUTS                 \n",
    "bag_class_estim.fit(X_train[INPUTS_BT], y_train)"
   ]
  },
  {
   "cell_type": "code",
   "execution_count": null,
   "id": "f248ebbd",
   "metadata": {},
   "outputs": [],
   "source": [
    "#-------------------------- NO ESCRIBAS LÍNEAS DE CÓDIGO MÁS LARGAS QUE LO QUE OCUPA ESTA LÍNEA -----------------------------|\n",
    "# find optim nº of trees in the ensemble\n",
    "param = {'BT__n_estimators': range(20, 150, 5)} # Number of trees to aggregate\n",
    "\n",
    "pipe =  Pipeline(steps=[('BT', \n",
    "                            BaggingClassifier(base_estimator=base_estimator,\n",
    "                                              random_state=150))])\n",
    "\n",
    "# We use Grid Search Cross Validation to find the best parameter for the model in the grid defined \n",
    "nFolds = 10\n",
    "bt_fit = GridSearchCV(estimator=pipe, # Structure of the model to use\n",
    "                       param_grid=param, # Defined grid to search in\n",
    "                       n_jobs=-1, # Number of cores to use (parallelize)\n",
    "                       scoring='accuracy', # Accuracy https://scikit-learn.org/stable/modules/model_evaluation.html\n",
    "                       cv=nFolds) # Number of Folds \n",
    "# fit the bagged trees\n",
    "INPUTS_BT = INPUTS  \n",
    "bt_fit.fit(X_train[INPUTS_BT], y_train) # Search in grid"
   ]
  },
  {
   "cell_type": "code",
   "execution_count": null,
   "id": "8ddefdf6",
   "metadata": {},
   "outputs": [],
   "source": [
    "MT.plotModelGridError(bt_fit)"
   ]
  },
  {
   "cell_type": "code",
   "execution_count": null,
   "id": "ebfaa105",
   "metadata": {},
   "outputs": [],
   "source": [
    "## Plot first trees of the ensemble\n",
    "plt.figure(figsize=(16, 12))\n",
    "plt.subplot(3,1,1)\n",
    "plot_tree(bt_fit.best_estimator_['BT'].estimators_[0]['DT'], feature_names= INPUTS_BT, fontsize=4, filled=True)\n",
    "plt.title(f'First tree of the ensemble')\n",
    "plt.subplot(3,1,2)\n",
    "plot_tree(bt_fit.best_estimator_['BT'].estimators_[1]['DT'], feature_names= INPUTS_BT, fontsize=4, filled=True)\n",
    "plt.title(f'Second tree of the ensemble')\n",
    "plt.subplot(3,1,3)\n",
    "plot_tree(bt_fit.best_estimator_['BT'].estimators_[2]['DT'], feature_names= INPUTS_BT, fontsize=4, filled=True)\n",
    "plt.title(f'Third tree of the ensemble')\n",
    "plt.show()"
   ]
  },
  {
   "cell_type": "code",
   "execution_count": null,
   "id": "0502e71d",
   "metadata": {},
   "outputs": [],
   "source": [
    "# model predictions in training (TR) and test (TS) sets\n",
    "clf = bt_fit\n",
    "y_train_pred = clf.predict(X_train[INPUTS_DT]).tolist()\n",
    "y_test_pred = clf.predict(X_test[INPUTS_DT]).tolist()\n",
    "\n",
    "# main metrics\n",
    "acc_tr = metrics.accuracy_score(y_train,y_train_pred)\n",
    "acc_ts = metrics.accuracy_score(y_test,y_test_pred)\n",
    "\n",
    "acc_bal_tr = metrics.balanced_accuracy_score(y_train,y_train_pred)\n",
    "acc_bal_ts = metrics.balanced_accuracy_score(y_test,y_test_pred)\n",
    "\n",
    "dfacc_BT =  pd.DataFrame([[acc_tr, acc_ts], [acc_bal_tr, acc_bal_ts]], index= ['Accuracy', 'Balanced accuracy'],  columns=['TR', 'TS'])\n",
    "print(dfacc_BT)\n",
    "\n",
    "print('\\nMETRICS TRAINING:')\n",
    "CT.confusion_matrix(y_train, y_train_pred, labels=[1,0])\n",
    "print('\\nMETRICS TEST SET:')\n",
    "CT.confusion_matrix(y_test, y_test_pred, labels=[1,0])"
   ]
  },
  {
   "cell_type": "code",
   "execution_count": null,
   "id": "d4bd79e8",
   "metadata": {},
   "outputs": [],
   "source": [
    "fig = plt.figure(figsize=(15,15))\n",
    "\n",
    "ax = plt.subplot(2,2,1)\n",
    "ConfusionMatrixDisplay.from_estimator(clf, X_train, y_train, ax = ax)\n",
    "plt.title ('TRAINING SET')\n",
    "\n",
    "ax = plt.subplot(2,2,2)\n",
    "ConfusionMatrixDisplay.from_estimator(clf, X_test, y_test, ax = ax)\n",
    "plt.title ('TEST SET')\n",
    "\n",
    "ax = plt.subplot(2,2,3)\n",
    "ConfusionMatrixDisplay.from_estimator(clf, X_train, y_train, ax = ax, normalize = 'true')\n",
    "plt.title ('TRAINING SET (Normalized True values)')\n",
    "\n",
    "ax = plt.subplot(2,2,4)\n",
    "ConfusionMatrixDisplay.from_estimator(clf, X_test, y_test, ax = ax, normalize = 'true')\n",
    "plt.title ('TEST SET (Normalized True values)')\n",
    "\n",
    "plt.show()"
   ]
  },
  {
   "cell_type": "code",
   "execution_count": null,
   "id": "1a795e3e",
   "metadata": {},
   "outputs": [],
   "source": [
    "# number of nodes in each tree of the ensemble\n",
    "node_count_trees = [t['DT'].tree_.node_count for t in bag_class_estim.estimators_]\n",
    "\n",
    "# number of nodes in each tree of the ensemble\n",
    "depth_trees = [t['DT'].tree_.max_depth for t in bag_class_estim.estimators_]\n",
    "\n",
    "fig = plt.figure(1, figsize=(16, 9))\n",
    "ax1=plt.subplot(2,1,1)\n",
    "plt.plot(node_count_trees, '.-')\n",
    "plt.ylabel('Nº of nodes')                       \n",
    "plt.grid()\n",
    "\n",
    "plt.subplot(2,1,2, sharex = ax1)\n",
    "plt.plot(depth_trees, '.-')\n",
    "plt.ylabel('Depth of the tree')                       \n",
    "plt.xlabel('Tree of the ensemble')                  \n",
    "plt.grid()\n",
    "plt.show()"
   ]
  },
  {
   "cell_type": "code",
   "execution_count": null,
   "id": "fff49494",
   "metadata": {},
   "outputs": [],
   "source": [
    "# feature importances of each tree in the ensemble\n",
    "feature_importances_trees = [t['DT'].feature_importances_ for t in bag_class_estim.estimators_]\n",
    "\n",
    "# global view of feature importances\n",
    "dfimp =  pd.DataFrame(list(feature_importances_trees), columns=INPUTS_BT)\n",
    "dfimp.boxplot(figsize=(16, 9))\n",
    "plt.plot(np.arange(len(INPUTS_BT))+1, dfimp.mean(),'s-', label ='mean importance')\n",
    "plt.ylabel('Feature importance') \n",
    "plt.xlabel('Feature') \n",
    "plt.title('Feature importance variability in the ensemble of bagged trees')\n",
    "plt.legend()\n",
    "plt.show()"
   ]
  },
  {
   "attachments": {},
   "cell_type": "markdown",
   "id": "002cf847",
   "metadata": {},
   "source": [
    "#### 1.4. Ajusta un random forest para resolver el problema planteado.\n",
    "\n",
    "- Optimiza la complejidad\n",
    "- Revisa los errores en TR y TS, la matrices de confusión, y verifica la capacidad de generación\n",
    "- Revisa la importancia de las variables"
   ]
  },
  {
   "cell_type": "code",
   "execution_count": null,
   "id": "29aff42d",
   "metadata": {},
   "outputs": [],
   "source": [
    "#-------------------------- NO ESCRIBAS LÍNEAS DE CÓDIGO MÁS LARGAS QUE LO QUE OCUPA ESTA LÍNEA -----------------------------|\n",
    "\n",
    "# Convert output variable to categorical\n",
    "df_aju.FESTIVO = df_aju.FESTIVO.astype('category')"
   ]
  },
  {
   "cell_type": "code",
   "execution_count": null,
   "id": "318be90a",
   "metadata": {},
   "outputs": [],
   "source": [
    "#-------------------------- NO ESCRIBAS LÍNEAS DE CÓDIGO MÁS LARGAS QUE LO QUE OCUPA ESTA LÍNEA -----------------------------|\n",
    "\n",
    "# Define input and output matrices\n",
    "INPUTS = ['CR00', 'CR01', 'CR02', 'CR03', 'CR04', 'CR05', 'CR06', 'CR07',\n",
    "       'CR08', 'CR09', 'CR10', 'CR11', 'CR12', 'CR13', 'CR14', 'CR15', 'CR16',\n",
    "       'CR17', 'CR18', 'CR19', 'CR20', 'CR21', 'CR22', 'CR23', 'MES', 'DIASEM', \n",
    "       'TMIN', 'TMAX']\n",
    "OUTPUT = 'FESTIVO'\n",
    "X = df_aju[INPUTS]\n",
    "y = df_aju[OUTPUT]\n",
    "\n",
    "# Split\n",
    "X_train, X_test, y_train, y_test = train_test_split(X, y,\n",
    "                                                    test_size=0.2,  #percentage of test data\n",
    "                                                    random_state=0, #seed for replication\n",
    "                                                    stratify = y)   #Preserves distribution of y"
   ]
  },
  {
   "attachments": {},
   "cell_type": "markdown",
   "id": "c43a70ef",
   "metadata": {},
   "source": [
    "#### 1.4.1. Ajustamos Random Forest optimizado utilizando GridSearch"
   ]
  },
  {
   "cell_type": "code",
   "execution_count": null,
   "id": "5df06187",
   "metadata": {},
   "outputs": [],
   "source": [
    "#-------------------------- NO ESCRIBAS LÍNEAS DE CÓDIGO MÁS LARGAS QUE LO QUE OCUPA ESTA LÍNEA -----------------------------|\n",
    "\n",
    "# find optim nº of trees in the ensemble and max_features\n",
    "param = {'RF__max_features': range(1, 6, 1), # Number number of features to consider when looking for the best split\n",
    "         'RF__n_estimators': range(20, 150, 5)} # Number of trees in the forest\n",
    "\n",
    "pipe =  Pipeline(steps=[('RF', \n",
    "                            RandomForestClassifier(\n",
    "                                        criterion='gini',  # impurity measure\n",
    "                                        min_samples_split=2, # Minimum number of obs in node to keep cutting\n",
    "                                        min_samples_leaf=1, # Minimum number of obs in a terminal node  \n",
    "                                        random_state=0)\n",
    "                        )])\n",
    "\n",
    "# We use Grid Search Cross Validation to find the best parameter for the model in the grid defined \n",
    "nFolds = 10\n",
    "rf_fit = GridSearchCV(estimator=pipe, # Structure of the model to use\n",
    "                       param_grid=param, # Defined grid to search in\n",
    "                       n_jobs=-1, # Number of cores to use (parallelize)\n",
    "                       scoring='accuracy', # Accuracy https://scikit-learn.org/stable/modules/model_evaluation.html\n",
    "                       cv=nFolds) # Number of Folds \n",
    "# fit the bagged trees\n",
    "INPUTS_RF = INPUTS  \n",
    "rf_fit.fit(X_train[INPUTS_RF], y_train) # Search in grid"
   ]
  },
  {
   "cell_type": "code",
   "execution_count": null,
   "id": "13cd76d0",
   "metadata": {},
   "outputs": [],
   "source": [
    "#-------------------------- NO ESCRIBAS LÍNEAS DE CÓDIGO MÁS LARGAS QUE LO QUE OCUPA ESTA LÍNEA -----------------------------|\n",
    "\n",
    "MT.plotModelGridError(rf_fit)"
   ]
  },
  {
   "attachments": {},
   "cell_type": "markdown",
   "id": "4601f9c5",
   "metadata": {},
   "source": [
    "#### 1.4.2. Analizamos los errores en Train y Test"
   ]
  },
  {
   "cell_type": "code",
   "execution_count": null,
   "id": "4c7ea9b3",
   "metadata": {},
   "outputs": [],
   "source": [
    "#-------------------------- NO ESCRIBAS LÍNEAS DE CÓDIGO MÁS LARGAS QUE LO QUE OCUPA ESTA LÍNEA -----------------------------|\n",
    "\n",
    "# model predictions in training (TR) and test (TS) sets\n",
    "clf = rf_fit\n",
    "y_train_pred = clf.predict(X_train[INPUTS_RF]).tolist()\n",
    "y_test_pred = clf.predict(X_test[INPUTS_RF]).tolist()\n",
    "\n",
    "# main metrics\n",
    "acc_tr = metrics.accuracy_score(y_train,y_train_pred)\n",
    "acc_ts = metrics.accuracy_score(y_test,y_test_pred)\n",
    "\n",
    "acc_bal_tr = metrics.balanced_accuracy_score(y_train,y_train_pred)\n",
    "acc_bal_ts = metrics.balanced_accuracy_score(y_test,y_test_pred)\n",
    "\n",
    "dfacc_RF =  pd.DataFrame([[acc_tr, acc_ts], [acc_bal_tr, acc_bal_ts]], index= ['Accuracy', 'Balanced accuracy'],  \n",
    "                      columns=['TR', 'TS'])\n",
    "print(dfacc_RF)\n",
    "\n",
    "print('\\nMETRICS TRAINING:')\n",
    "CT.confusion_matrix(y_train, y_train_pred, labels=[1,0])\n",
    "print('\\nMETRICS TEST SET:')\n",
    "CT.confusion_matrix(y_test, y_test_pred, labels=[1,0])"
   ]
  },
  {
   "attachments": {},
   "cell_type": "markdown",
   "id": "b1c88736",
   "metadata": {},
   "source": [
    "#### 1.4.3. Analizamos la matriz de confusión"
   ]
  },
  {
   "cell_type": "code",
   "execution_count": null,
   "id": "7a7d708c",
   "metadata": {},
   "outputs": [],
   "source": [
    "#-------------------------- NO ESCRIBAS LÍNEAS DE CÓDIGO MÁS LARGAS QUE LO QUE OCUPA ESTA LÍNEA -----------------------------|\n",
    "\n",
    "fig = plt.figure(figsize=(15, 15))\n",
    "\n",
    "ax = plt.subplot(2,2,1)\n",
    "ConfusionMatrixDisplay.from_estimator(clf, X_train, y_train, ax = ax)\n",
    "plt.title ('TRAINING SET')\n",
    "\n",
    "ax = plt.subplot(2,2,2)\n",
    "ConfusionMatrixDisplay.from_estimator(clf, X_test, y_test, ax = ax)\n",
    "plt.title ('TEST SET')\n",
    "\n",
    "ax = plt.subplot(2,2,3)\n",
    "ConfusionMatrixDisplay.from_estimator(clf, X_train, y_train, ax = ax, normalize = 'true')\n",
    "plt.title ('TRAINING SET (Normalized True values)')\n",
    "\n",
    "ax = plt.subplot(2,2,4)\n",
    "ConfusionMatrixDisplay.from_estimator(clf, X_test, y_test, ax = ax, normalize = 'true')\n",
    "plt.title ('TEST SET (Normalized True values)')\n",
    "\n",
    "plt.show()"
   ]
  },
  {
   "attachments": {},
   "cell_type": "markdown",
   "id": "afa0a493",
   "metadata": {},
   "source": [
    "#### 1.4.4. Analizamos la importancia de las variables del modelo"
   ]
  },
  {
   "cell_type": "code",
   "execution_count": null,
   "id": "9b1fea29",
   "metadata": {},
   "outputs": [],
   "source": [
    "#-------------------------- NO ESCRIBAS LÍNEAS DE CÓDIGO MÁS LARGAS QUE LO QUE OCUPA ESTA LÍNEA -----------------------------|\n",
    "\n",
    "RF_class_estim = rf_fit.best_estimator_['RF']\n",
    "\n",
    "## Feature importance evaluation using \"Permutation Importance\" (training and test)\n",
    "importances_tr_RF_class_estim = permutation_importance(RF_class_estim, \n",
    "                                    X_train[INPUTS_RF], y_train,\n",
    "                                    n_repeats=10,\n",
    "                                    random_state=0)\n",
    "\n",
    "importances_ts_RF_class_estim = permutation_importance(RF_class_estim, \n",
    "                                    X_test[INPUTS_RF], y_test,\n",
    "                                    n_repeats=10,\n",
    "                                    random_state=0)\n",
    " \n",
    "## Plot importances\n",
    "\n",
    "# Plot the variable importance of each feature given by feature_importances_ attribute\n",
    "plt.figure(figsize=(16, 9))\n",
    "\n",
    "plt.subplot(2,1,1)\n",
    "plt.bar(INPUTS_RF, RF_class_estim.feature_importances_, color='black', alpha=0.7)\n",
    "plt.ylabel('Importance (default)')\n",
    "plt.title('Random forest')\n",
    "plt.grid()\n",
    "\n",
    "plt.subplot(2,1,2)\n",
    "plt.bar(INPUTS_RF, importances_tr_RF_class_estim.importances_mean, color='green', alpha=0.7, label='TR')\n",
    "plt.bar(INPUTS_RF, importances_ts_RF_class_estim.importances_mean, color='red', alpha=0.7, label='TS')\n",
    "plt.xlabel('Feature')\n",
    "plt.ylabel('Permutation Importance')\n",
    "plt.legend()\n",
    "plt.grid()\n",
    "plt.show()\n",
    "\n",
    "# Plot the variable importances of each feature (all together)\n",
    "plt.figure(figsize=(16, 9))\n",
    "\n",
    "plt.plot(INPUTS_RF, RF_class_estim.feature_importances_, 's-',  color='black', label='Default Imp. (TR)')\n",
    "plt.plot(INPUTS_RF, importances_tr_RF_class_estim.importances_mean, 'o-', color='green', label='Permutation Imp. (TR)')\n",
    "plt.plot(INPUTS_RF, importances_ts_RF_class_estim.importances_mean, 'o-', color='red', label='Permutation Imp. (TS)')\n",
    "plt.xlabel('Feature')\n",
    "plt.ylabel('Importance')\n",
    "plt.title('Random forest')\n",
    "plt.legend()\n",
    "plt.grid()\n",
    "plt.show()"
   ]
  },
  {
   "attachments": {},
   "cell_type": "markdown",
   "id": "a0f6e259",
   "metadata": {},
   "source": [
    "#### 1.5. Ajusta un gradient boosting para resolver el problema planteado.\n",
    "\n",
    "- Optimiza la complejidad\n",
    "- Revisa los errores en TR y TS, la matrices de confusión, y verifica la capacidad de generación\n",
    "- Revisa la importancia de las variables"
   ]
  },
  {
   "attachments": {},
   "cell_type": "markdown",
   "id": "73ca09d0",
   "metadata": {},
   "source": [
    "#### 1.5.1. Ajustamos Gradient Boosting optimizado utilizando GridSearch"
   ]
  },
  {
   "cell_type": "code",
   "execution_count": null,
   "id": "d6201b7c",
   "metadata": {},
   "outputs": [],
   "source": [
    "#-------------------------- NO ESCRIBAS LÍNEAS DE CÓDIGO MÁS LARGAS QUE LO QUE OCUPA ESTA LÍNEA -----------------------------|\n",
    "\n",
    "# Define the pipeline structure with GradientBoostingClassifier model\n",
    "pipe = Pipeline([('GB', GradientBoostingClassifier())])\n",
    "\n",
    "# Define the hyperparameters to evaluate\n",
    "param_grid = {'GB__n_estimators': [100, 500, 1000],   # Number of trees in the forest\n",
    "              'GB__learning_rate': [0.01, 0.1, 1],    # Learning rate (shrinkage)\n",
    "              'GB__max_depth': [1, 2, 3],             # Maximum depth of the individual regression estimators\n",
    "              'GB__max_features': ['sqrt', 'log2'],   # Number of features to consider when looking for the best split\n",
    "              'GB__loss': ['log_loss', 'exponential'] # Loss function to be optimized\n",
    "             }\n",
    "\n",
    "# Define the GridSearchCV object\n",
    "grid_search = GridSearchCV(estimator=pipe, # Model structure to use\n",
    "                           param_grid=param_grid, # Defined grid to search in\n",
    "                           cv=10, # Number of cross-validation folds\n",
    "                           scoring='accuracy', # Scoring metric\n",
    "                           n_jobs=-1 # Number of parallel jobs to run. -1 means using all processors.\n",
    "                          )\n",
    "\n",
    "# Fit the GridSearchCV object to the data\n",
    "grid_search.fit(X_train, y_train)\n",
    "\n",
    "# Print the best hyperparameters and the corresponding score\n",
    "print(\"Best Hyperparameters:\", grid_search.best_params_)\n",
    "print(\"Best Score:\", grid_search.best_score_)"
   ]
  },
  {
   "cell_type": "code",
   "execution_count": null,
   "id": "64fddcdb",
   "metadata": {},
   "outputs": [],
   "source": [
    "#-------------------------- NO ESCRIBAS LÍNEAS DE CÓDIGO MÁS LARGAS QUE LO QUE OCUPA ESTA LÍNEA -----------------------------|\n",
    "\n",
    "GB_class_estim = grid_search.best_estimator_['GB']"
   ]
  },
  {
   "cell_type": "code",
   "execution_count": null,
   "id": "87af431f",
   "metadata": {},
   "outputs": [],
   "source": [
    "#-------------------------- NO ESCRIBAS LÍNEAS DE CÓDIGO MÁS LARGAS QUE LO QUE OCUPA ESTA LÍNEA -----------------------------|\n",
    "\n",
    "# fit\n",
    "INPUTS_GB = INPUTS                \n",
    "GB_class_estim.fit(X_train[INPUTS_GB], y_train)"
   ]
  },
  {
   "attachments": {},
   "cell_type": "markdown",
   "id": "726e1f85",
   "metadata": {},
   "source": [
    "#### 1.5.2. Analizamos los errores en Train y Test"
   ]
  },
  {
   "cell_type": "code",
   "execution_count": null,
   "id": "f0c58554",
   "metadata": {},
   "outputs": [],
   "source": [
    "#-------------------------- NO ESCRIBAS LÍNEAS DE CÓDIGO MÁS LARGAS QUE LO QUE OCUPA ESTA LÍNEA -----------------------------|\n",
    "\n",
    "# model predictions in training (TR) and test (TS) sets\n",
    "clf = GB_class_estim\n",
    "y_train_pred = clf.predict(X_train[INPUTS_GB]).tolist()\n",
    "y_test_pred = clf.predict(X_test[INPUTS_GB]).tolist()\n",
    "\n",
    "# main metrics\n",
    "acc_tr = metrics.accuracy_score(y_train,y_train_pred)\n",
    "acc_ts = metrics.accuracy_score(y_test,y_test_pred)\n",
    "\n",
    "acc_bal_tr = metrics.balanced_accuracy_score(y_train,y_train_pred)\n",
    "acc_bal_ts = metrics.balanced_accuracy_score(y_test,y_test_pred)\n",
    "\n",
    "dfacc_GB =  pd.DataFrame([[acc_tr, acc_ts], [acc_bal_tr, acc_bal_ts]], index= ['Accuracy', 'Balanced accuracy'],  \n",
    "                      columns=['TR', 'TS'])\n",
    "print(dfacc_GB)\n",
    "\n",
    "print('\\nMETRICS TRAINING:')\n",
    "CT.confusion_matrix(y_train, y_train_pred, labels=[1,0])\n",
    "print('\\nMETRICS TEST SET:')\n",
    "CT.confusion_matrix(y_test, y_test_pred, labels=[1,0])"
   ]
  },
  {
   "attachments": {},
   "cell_type": "markdown",
   "id": "c86f575b",
   "metadata": {},
   "source": [
    "#### 1.5.3. Analizamos la matriz de confusión"
   ]
  },
  {
   "cell_type": "code",
   "execution_count": null,
   "id": "97180c77",
   "metadata": {},
   "outputs": [],
   "source": [
    "#-------------------------- NO ESCRIBAS LÍNEAS DE CÓDIGO MÁS LARGAS QUE LO QUE OCUPA ESTA LÍNEA -----------------------------|\n",
    "\n",
    "fig = plt.figure(figsize=(15, 15))\n",
    "\n",
    "ax = plt.subplot(2,2,1)\n",
    "ConfusionMatrixDisplay.from_estimator(clf, X_train, y_train, ax = ax)\n",
    "plt.title ('TRAINING SET')\n",
    "\n",
    "ax = plt.subplot(2,2,2)\n",
    "ConfusionMatrixDisplay.from_estimator(clf, X_test, y_test, ax = ax)\n",
    "plt.title ('TEST SET')\n",
    "\n",
    "ax = plt.subplot(2,2,3)\n",
    "ConfusionMatrixDisplay.from_estimator(clf, X_train, y_train, ax = ax, normalize = 'true')\n",
    "plt.title ('TRAINING SET (Normalized True values)')\n",
    "\n",
    "ax = plt.subplot(2,2,4)\n",
    "ConfusionMatrixDisplay.from_estimator(clf, X_test, y_test, ax = ax, normalize = 'true')\n",
    "plt.title ('TEST SET (Normalized True values)')\n",
    "\n",
    "plt.show()"
   ]
  },
  {
   "attachments": {},
   "cell_type": "markdown",
   "id": "c801256b",
   "metadata": {},
   "source": [
    "#### 1.5.4. Analizamos la importancia de las variables del modelo"
   ]
  },
  {
   "cell_type": "code",
   "execution_count": null,
   "id": "20936731",
   "metadata": {},
   "outputs": [],
   "source": [
    "#-------------------------- NO ESCRIBAS LÍNEAS DE CÓDIGO MÁS LARGAS QUE LO QUE OCUPA ESTA LÍNEA -----------------------------|\n",
    "\n",
    "importances_bag_class_estim = permutation_importance(GB_class_estim, \n",
    "                                    X_train[INPUTS_GB], y_train,\n",
    "                                    n_repeats=10,\n",
    "                                    random_state=0)\n",
    "\n",
    "fig = plt.figure(2, figsize=(20,8)) \n",
    "plt.bar(INPUTS_GB, importances_bag_class_estim.importances_mean, yerr=importances_bag_class_estim.importances_std)\n",
    "plt.xlabel('Feature')\n",
    "plt.ylabel('Permutation Importance')\n",
    "plt.grid()\n",
    "plt.show()"
   ]
  },
  {
   "attachments": {},
   "cell_type": "markdown",
   "id": "613d23db",
   "metadata": {},
   "source": [
    "#### 1.6. Utiliza staking con tus mejores tres modelos para intentar mejorar la soluciones obtenidas.\n",
    "- Revisa los errores en TR y TS, la matrices de confusión, y verifica la capacidad de generación"
   ]
  },
  {
   "cell_type": "code",
   "execution_count": null,
   "id": "3b98421c",
   "metadata": {},
   "outputs": [],
   "source": [
    "#-------------------------- NO ESCRIBAS LÍNEAS DE CÓDIGO MÁS LARGAS QUE LO QUE OCUPA ESTA LÍNEA -----------------------------|\n",
    "\n",
    "# DT #\n",
    "param_tree = {'DT__min_impurity_decrease': np.arange(0,0.05,0.005), # Minimum entropy to decrease in each split\n",
    "         'DT__min_samples_leaf': np.arange(1,10,1), # Minimum number of obs in a terminal node\n",
    "         'DT__min_samples_split':  np.arange(1,10,1)} # Minimum number of obs in node to keep cutting\n",
    "\n",
    "pipe_tree = Pipeline(steps=[('DT', DecisionTreeClassifier(criterion='gini',  # impurity measure\n",
    "                                                     random_state=150))]) # For replication\n",
    "\n",
    "nFolds_tree = 10\n",
    "\n",
    "# BT #\n",
    "base_estimator_BT =  Pipeline(steps=[('DT', \n",
    "                                    DecisionTreeClassifier( criterion='gini',  # impurity measure\n",
    "                                                            min_samples_split=2, # Minimum number of obs in node to keep cutting\n",
    "                                                            min_samples_leaf=1, # Minimum number of obs in a terminal node\n",
    "                                                            random_state=150))])\n",
    "\n",
    "param_BT = {'BT__n_estimators': range(20, 150, 5)}\n",
    "\n",
    "pipe_BT = Pipeline(steps=[('BT', \n",
    "                            BaggingClassifier(base_estimator=base_estimator_BT,\n",
    "                                              random_state=150))])\n",
    "\n",
    "nFolds_BT = 10\n",
    "\n",
    "# GB #\n",
    "pipe_GB = Pipeline([('GB', GradientBoostingClassifier())])\n",
    "\n",
    "param_GB = {'GB__n_estimators': [100, 500, 1000],   # Number of trees in the forest\n",
    "              'GB__learning_rate': [0.01, 0.1, 1],    # Learning rate (shrinkage)\n",
    "              'GB__max_depth': [1, 2, 3],             # Maximum depth of the individual regression estimators\n",
    "              'GB__max_features': ['sqrt', 'log2'],   # Number of features to consider when looking for the best split\n",
    "              'GB__loss': ['log_loss', 'exponential'] # Loss function to be optimized\n",
    "             }\n",
    "\n",
    "nFolds_GB = 10\n",
    "\n",
    "\n",
    "## set of estimators to be stacked\n",
    "estimators = [\n",
    "    ('gradboost', make_pipeline(\n",
    "        GridSearchCV(estimator=pipe_GB, # Model structure to use\n",
    "                        param_grid=param_GB, # Defined grid to search in\n",
    "                        cv=nFolds_GB, # Number of cross-validation folds\n",
    "                        scoring='accuracy', # Scoring metric\n",
    "                        n_jobs=-1)) # Number of parallel jobs to run. -1 means using all processors.\n",
    "    ),\n",
    "    ('bagtree', make_pipeline(\n",
    "        GridSearchCV(estimator=pipe_BT, # Structure of the model to use\n",
    "                       param_grid=param_BT, # Defined grid to search in\n",
    "                       n_jobs=-1, # Number of cores to use (parallelize)\n",
    "                       scoring='accuracy', # Accuracy https://scikit-learn.org/stable/modules/model_evaluation.html\n",
    "                       cv=nFolds_BT)) # Number of Folds \n",
    "    ),\n",
    "    ('clatree', make_pipeline(\n",
    "                GridSearchCV(estimator=pipe_tree, # Structure of the model to use\n",
    "                       param_grid=param_tree, # Defined grid to search in\n",
    "                       n_jobs=-1, # Number of cores to use (parallelize)\n",
    "                       scoring='accuracy', # Accuracy https://scikit-learn.org/stable/modules/model_evaluation.html\n",
    "                       cv=nFolds_tree)) # Number of Folds \n",
    "    )\n",
    "]\n",
    "\n",
    "estimators"
   ]
  },
  {
   "cell_type": "code",
   "execution_count": null,
   "id": "4ad2e457",
   "metadata": {},
   "outputs": [],
   "source": [
    "weights = [0.1, 0.2, 0.7] # pesos de los 3 modelos\n",
    "stacked_cla = VotingClassifier(estimators = estimators, weights = weights)\n",
    "stacked_cla = stacked_cla.fit(X_train, y_train)\n",
    "stacked_cla.get_params()"
   ]
  },
  {
   "attachments": {},
   "cell_type": "markdown",
   "id": "f89c3a29",
   "metadata": {},
   "source": [
    "- Errores en train y test"
   ]
  },
  {
   "cell_type": "code",
   "execution_count": null,
   "id": "50f2f412",
   "metadata": {},
   "outputs": [],
   "source": [
    "#-------------------------- NO ESCRIBAS LÍNEAS DE CÓDIGO MÁS LARGAS QUE LO QUE OCUPA ESTA LÍNEA -----------------------------|\n",
    "\n",
    "# model predictions in training (TR) and test (TS) sets\n",
    "y_train_stack = stacked_cla.predict(X_train)\n",
    "y_test_stack = stacked_cla.predict(X_test)\n",
    "\n",
    "# main metrics\n",
    "acc_tr = metrics.accuracy_score(y_train,y_train_stack)\n",
    "acc_ts = metrics.accuracy_score(y_test,y_test_stack)\n",
    "\n",
    "acc_bal_tr = metrics.balanced_accuracy_score(y_train,y_train_stack)\n",
    "acc_bal_ts = metrics.balanced_accuracy_score(y_test,y_test_stack)\n",
    "\n",
    "dfacc_ST =  pd.DataFrame([[acc_tr, acc_ts], [acc_bal_tr, acc_bal_ts]], index= ['Accuracy', 'Balanced accuracy'],  \n",
    "                      columns=['TR', 'TS'])\n",
    "print(dfacc_ST)\n",
    "\n",
    "print('\\nMETRICS TRAINING:')\n",
    "CT.confusion_matrix(y_train, y_train_stack, labels=[1,0])\n",
    "print('\\nMETRICS TEST SET:')\n",
    "CT.confusion_matrix(y_test, y_test_stack, labels=[1,0])"
   ]
  },
  {
   "attachments": {},
   "cell_type": "markdown",
   "id": "9ef0c6b1",
   "metadata": {},
   "source": [
    "- Matrices de confusión"
   ]
  },
  {
   "cell_type": "code",
   "execution_count": null,
   "id": "b774ccf5",
   "metadata": {},
   "outputs": [],
   "source": [
    "#-------------------------- NO ESCRIBAS LÍNEAS DE CÓDIGO MÁS LARGAS QUE LO QUE OCUPA ESTA LÍNEA -----------------------------|\n",
    "\n",
    "fig = plt.figure(figsize=(15, 15))\n",
    "\n",
    "ax = plt.subplot(2,2,1)\n",
    "ConfusionMatrixDisplay.from_estimator(stacked_cla, X_train, y_train, ax = ax)\n",
    "plt.title ('TRAINING SET')\n",
    "\n",
    "ax = plt.subplot(2,2,2)\n",
    "ConfusionMatrixDisplay.from_estimator(stacked_cla, X_test, y_test, ax = ax)\n",
    "plt.title ('TEST SET')\n",
    "\n",
    "ax = plt.subplot(2,2,3)\n",
    "ConfusionMatrixDisplay.from_estimator(stacked_cla, X_train, y_train, ax = ax, normalize = 'true')\n",
    "plt.title ('TRAINING SET (Normalized True values)')\n",
    "\n",
    "ax = plt.subplot(2,2,4)\n",
    "ConfusionMatrixDisplay.from_estimator(stacked_cla, X_test, y_test, ax = ax, normalize = 'true')\n",
    "plt.title ('TEST SET (Normalized True values)')\n",
    "\n",
    "plt.show()"
   ]
  },
  {
   "attachments": {},
   "cell_type": "markdown",
   "id": "6eae29a1",
   "metadata": {},
   "source": [
    "- Capacidad de generalización"
   ]
  },
  {
   "cell_type": "code",
   "execution_count": null,
   "id": "3f6c3fd6",
   "metadata": {},
   "outputs": [],
   "source": [
    "# we use the same set of models to be stacked\n",
    "\n",
    "stacked_genreg = StackingClassifier(\n",
    "    estimators = estimators,\n",
    "    final_estimator=RandomForestClassifier(n_estimators=20, random_state=999)\n",
    "    #final_estimator = LinearRegression()\n",
    ")\n",
    "\n",
    "stacked_genreg = stacked_genreg.fit(X_train, y_train)\n",
    "stacked_genreg"
   ]
  },
  {
   "cell_type": "code",
   "execution_count": null,
   "id": "9da2cdd6",
   "metadata": {},
   "outputs": [],
   "source": [
    "#-------------------------- NO ESCRIBAS LÍNEAS DE CÓDIGO MÁS LARGAS QUE LO QUE OCUPA ESTA LÍNEA -----------------------------|\n",
    "\n",
    "# model predictions in training (TR) and test (TS) sets\n",
    "y_train_stack = stacked_cla.predict(X_train)\n",
    "y_test_stack = stacked_cla.predict(X_test)\n",
    "\n",
    "# main metrics\n",
    "acc_tr = metrics.accuracy_score(y_train,y_train_stack)\n",
    "acc_ts = metrics.accuracy_score(y_test,y_test_stack)\n",
    "\n",
    "acc_bal_tr = metrics.balanced_accuracy_score(y_train,y_train_stack)\n",
    "acc_bal_ts = metrics.balanced_accuracy_score(y_test,y_test_stack)\n",
    "\n",
    "dfacc =  pd.DataFrame([[acc_tr, acc_ts], [acc_bal_tr, acc_bal_ts]], index= ['Accuracy', 'Balanced accuracy'],  \n",
    "                      columns=['TR', 'TS'])\n",
    "print(dfacc)\n",
    "\n",
    "print('\\nMETRICS TRAINING:')\n",
    "CT.confusion_matrix(y_train, y_train_stack, labels=[1,0])\n",
    "print('\\nMETRICS TEST SET:')\n",
    "CT.confusion_matrix(y_test, y_test_stack, labels=[1,0])"
   ]
  },
  {
   "cell_type": "code",
   "execution_count": null,
   "id": "cad693f7",
   "metadata": {},
   "outputs": [],
   "source": [
    "print(stacked_genreg.final_estimator_.intercept_)\n",
    "print(stacked_genreg.final_estimator_.coef_)"
   ]
  },
  {
   "attachments": {},
   "cell_type": "markdown",
   "id": "62bf441c",
   "metadata": {},
   "source": [
    "#### 1.7. Crea un número de variables reducido que contengan la información recogida en las variables CR00 a CR23 y crea un árbol sencillo basado en estas variables.\n",
    "- El conjunto de variables creado tienen que ser una combinación lineal de CR00, ..., CR23\n",
    "- Optimiza la complejidad del árbol\n",
    "- Revisa los errores en TR y TS, la matrices de confusión, y verifica la capacidad de generación\n",
    "- Analiza la lógica que emplea para determinar si es festivo\n",
    "- Revisa la importancia de las variables, explicando el significado físico de las variables más importantes\n",
    "- Compara los errores en TR y TS y la lógica del modelo con el creado anteriormente en el apartado 1.2.\n"
   ]
  },
  {
   "attachments": {},
   "cell_type": "markdown",
   "id": "66f2b556",
   "metadata": {},
   "source": [
    "Para empezar, es necesario crear las variables que se van a utilizar para el modelo de árbol sencillo. Para ello se usa el análisis de componentes principales y en primer lugar es necesario hacer un escalado de las varaibles de entrada ya que, si no, la importancia de estas se ve modificada. Después se puede representar gráficamente los parámetros de los primeros 3 componentes principales."
   ]
  },
  {
   "cell_type": "code",
   "execution_count": null,
   "id": "8b0b6876",
   "metadata": {},
   "outputs": [],
   "source": [
    "#-------------------------- NO ESCRIBAS LÍNEAS DE CÓDIGO MÁS LARGAS QUE LO QUE OCUPA ESTA LÍNEA -----------------------------|\n",
    "\n",
    "INPUTS_PCA = ['CR00', 'CR01', 'CR02', 'CR03', 'CR04', 'CR05', 'CR06', 'CR07',\n",
    "       'CR08', 'CR09', 'CR10', 'CR11', 'CR12', 'CR13', 'CR14', 'CR15', 'CR16',\n",
    "       'CR17', 'CR18', 'CR19', 'CR20', 'CR21', 'CR22', 'CR23']\n",
    "\n",
    "scaler = StandardScaler()\n",
    "scaler.fit(X_train[INPUTS_PCA])\n",
    "X_train_scaled = scaler.transform(X_train[INPUTS_PCA])\n",
    "X_test_scaled  = scaler.transform(X_test[INPUTS_PCA])\n",
    " \n",
    "PCA_n_components = 3\n",
    "\n",
    "pca = PCA(n_components = PCA_n_components)\n",
    "\n",
    "pca.fit(X_train_scaled)\n",
    "\n",
    "X_train_pca = pca.transform(X_train_scaled)\n",
    "X_test_pca  = pca.transform(X_test_scaled)\n",
    "\n",
    "\n",
    "loadings = pd.DataFrame(\n",
    "    pca.components_.T * np.sqrt(pca.explained_variance_), \n",
    "    columns=['PC' + str(pca + 1) for pca in range(PCA_n_components)],\n",
    "    index=INPUTS_PCA)\n",
    "\n",
    "\n",
    "fig, axes = plt.subplots(PCA_n_components, 1, figsize=(16,9))\n",
    "PC = 0\n",
    "for ax in axes.ravel():\n",
    "    sns.barplot(data=loadings, x=loadings.index, y=loadings.columns.values.tolist()[PC], ax=ax)\n",
    "    PC += 1"
   ]
  },
  {
   "attachments": {},
   "cell_type": "markdown",
   "id": "26760fd3",
   "metadata": {},
   "source": [
    "También se puede hacer una representación gráfica de los datos usando las dos primeras componentes como variables:"
   ]
  },
  {
   "cell_type": "code",
   "execution_count": null,
   "id": "e2d72f72",
   "metadata": {},
   "outputs": [],
   "source": [
    "#Plot in proyected PCA space\n",
    "df_plot = pd.DataFrame()\n",
    "df_plot['PC1'] = X_train_pca[:,0]\n",
    "df_plot['PC2'] = X_train_pca[:,1]\n",
    "df_plot['Y'] = df_aju['FESTIVO']\n",
    "fig = plt.figure(figsize = (16,9))\n",
    "ax = fig.add_subplot(111)\n",
    "sns.scatterplot(df_plot['PC1'],df_plot['PC2'], hue=df_plot['Y'])\n",
    "plt.show()"
   ]
  },
  {
   "attachments": {},
   "cell_type": "markdown",
   "id": "f7f78e78",
   "metadata": {},
   "source": [
    "Una vez se han definido las variables de entrada se puede crar el árbol sencillo. "
   ]
  },
  {
   "cell_type": "code",
   "execution_count": null,
   "id": "12688ae3",
   "metadata": {},
   "outputs": [],
   "source": [
    "#-------------------------- NO ESCRIBAS LÍNEAS DE CÓDIGO MÁS LARGAS QUE LO QUE OCUPA ESTA LÍNEA -----------------------------|\n",
    "param = {\n",
    "    'DT__min_impurity_decrease': np.arange(0.000005, 0.0001, 0.000005)\n",
    "}\n",
    "\n",
    "pipe = Pipeline([\n",
    "            ('DT', DecisionTreeClassifier())\n",
    "        ])\n",
    "\n",
    "# We use Grid Search Cross Validation to find the best parameter for the model in the grid defined \n",
    "nFolds = 10\n",
    "PCADT_fit = GridSearchCV(estimator=pipe, # Structure of the model to use\n",
    "                       param_grid=param, # Defined grid to search in\n",
    "                       n_jobs=-1, # Number of cores to use (parallelize)\n",
    "                       scoring='accuracy',\n",
    "                       cv=nFolds) # Number of Folds \n",
    "\n",
    "PCADT_fit.fit(X_train_pca, y_train) # Search in grid"
   ]
  },
  {
   "attachments": {},
   "cell_type": "markdown",
   "id": "0e3c4489",
   "metadata": {},
   "source": [
    "Los híper parámetros escogidos para el árbol de decisión son"
   ]
  },
  {
   "cell_type": "code",
   "execution_count": null,
   "id": "d958891d",
   "metadata": {},
   "outputs": [],
   "source": [
    "PCADT_fit.best_estimator_[0].get_params()"
   ]
  },
  {
   "attachments": {},
   "cell_type": "markdown",
   "id": "f5e88ea0",
   "metadata": {},
   "source": [
    "La evolución de la precisión en función de `min_impurity_decrease`:"
   ]
  },
  {
   "cell_type": "code",
   "execution_count": null,
   "id": "214ce817",
   "metadata": {},
   "outputs": [],
   "source": [
    "MT.plotModelGridError(PCADT_fit)"
   ]
  },
  {
   "attachments": {},
   "cell_type": "markdown",
   "id": "e52bb5c1",
   "metadata": {},
   "source": [
    "Una vez entrenado el modelo se pueden representar las decisiones que ha tomado."
   ]
  },
  {
   "cell_type": "code",
   "execution_count": null,
   "id": "16738afe",
   "metadata": {},
   "outputs": [],
   "source": [
    "## Plot first trees of the ensemble\n",
    "plt.figure(figsize = (16,9))\n",
    "plot_tree(PCADT_fit.best_estimator_[0], feature_names= INPUTS, fontsize=4, filled=True)\n",
    "plt.show()"
   ]
  },
  {
   "attachments": {},
   "cell_type": "markdown",
   "id": "958b0b38",
   "metadata": {},
   "source": [
    "Finalmente, se pueden hallar las métricas para evaluar el éxito del modelo."
   ]
  },
  {
   "cell_type": "code",
   "execution_count": null,
   "id": "25900b73",
   "metadata": {},
   "outputs": [],
   "source": [
    "# model predictions in training (TR) and test (TS) sets\n",
    "\n",
    "PCADT_fit = PCADT_fit.best_estimator_[0]\n",
    "y_train_pred = PCADT_fit.predict(X_train_pca).tolist()\n",
    "y_test_pred = PCADT_fit.predict(X_test_pca).tolist()\n",
    "\n",
    "# main metrics\n",
    "acc_tr = metrics.accuracy_score(y_train,y_train_pred)\n",
    "acc_ts = metrics.accuracy_score(y_test,y_test_pred)\n",
    "\n",
    "acc_bal_tr = metrics.balanced_accuracy_score(y_train,y_train_pred)\n",
    "acc_bal_ts = metrics.balanced_accuracy_score(y_test,y_test_pred)\n",
    "\n",
    "dfacc_PCA =  pd.DataFrame([[acc_tr, acc_ts], [acc_bal_tr, acc_bal_ts]], index= ['Accuracy', 'Balanced accuracy'],  columns=['TR', 'TS'])\n",
    "print(dfacc_PCA)\n",
    "\n",
    "print('\\nMETRICS TRAINING:')\n",
    "CT.confusion_matrix(y_train, y_train_pred, labels=[1,0])\n",
    "print('\\nMETRICS TEST SET:')\n",
    "CT.confusion_matrix(y_test, y_test_pred, labels=[1,0])"
   ]
  },
  {
   "attachments": {},
   "cell_type": "markdown",
   "id": "769f2a42",
   "metadata": {},
   "source": [
    "Como comnentario final, mencionar que se han hecho varios barridos intentando simplificar el árbol y mejorar los resultados, pero los resultados son nefastos. Al intentar ajustar los parámetros del árbol pueden suceder dos cosas:\n",
    "- Los resultados no son mejores que la elección al azar de la variable de salida. Por tanto, el modelo es completamente inútil.\n",
    "- El modelo sufre mucho sobre entrenamiento, por lo que la capacidad de generalización es nula. Esto es loque ha sucedido en el último caso.\n",
    "\n",
    "En particular, el hiper parámetro que más importancia tiene sobre estos dos tipos de resultado es el `min_impurity_decrease`. Esto se debe a que un valor muy grande de este parámetro hace que no pueda hacer suficientes cortes para aislar correctamente los registros con `FESTIVO = 0`. En conclusión, la descomposición de las variables de entarda usando una combinación linear de $\\{C00, ..., C24\\}$ no es adecuada para este problema. \n",
    "\n",
    "Esto no debería ser una sorpresa ya que como se ha visto en los modelos anteriores una de las variables más importantes es `DIASEM`, por lo que privar al modelo de esta variable causa muchos problemas."
   ]
  },
  {
   "attachments": {},
   "cell_type": "markdown",
   "id": "b3d2a51b",
   "metadata": {},
   "source": [
    "#### 1.8 Compara todos los modelos creados en términos de complejidad, interpretabilidad y errores\n",
    "- Discute el posible impacto que tiene en los modelos el que existan menos festivos que laborables\n",
    "- Compara la complejidad en términos de nº de parámetros y estructura del modelo, variables utilizadas, importancia de las mismas\n",
    "- Compara la capacidad de generalización de los modelos utilizando TS y las diferencias en las matrices de confusión\n",
    "- Estudia la tasa de fallos de los modelos dependiendo del día de la semana\n",
    "- Indica qué modelo o modelos son los más prometedores para poner en producción, justificando la selección"
   ]
  },
  {
   "attachments": {},
   "cell_type": "markdown",
   "id": "e3d34f54",
   "metadata": {},
   "source": [
    "En primer lugar, queda presente a lo largo de todos los modelos que el desbalance de clases hace muy complicado obtener resultados adecuados. Las precisiones son, en general, cercanas a la prevalencia lo qu"
   ]
  },
  {
   "cell_type": "code",
   "execution_count": null,
   "id": "66c962a6",
   "metadata": {},
   "outputs": [],
   "source": [
    "#-------------------------- NO ESCRIBAS LÍNEAS DE CÓDIGO MÁS LARGAS QUE LO QUE OCUPA ESTA LÍNEA -----------------------------|\n",
    "print('Precisión de DecisionTree:', dfacc_DT)\n",
    "print('\\n\\nPrecisión de Random Forest:', dfacc_RF)\n",
    "print('\\n\\nPrecisión de Bagging:', dfacc_BT)\n",
    "print('\\n\\nPrecisión de Gradient Boosting:', dfacc_GB)\n",
    "print('\\n\\nPrecisión de PCA:', dfacc_PCA)\n",
    "print('\\n\\nPrecisión de Stacking:', dfacc_ST)"
   ]
  },
  {
   "attachments": {},
   "cell_type": "markdown",
   "id": "7685d092",
   "metadata": {},
   "source": [
    "---\n",
    "### 2. VALIDACIÓN FINAL DE LOS MODELOS CON EL DATASET VAL_DATOS_DEM_C3\n",
    "\n",
    "Se correpondería como si los todos los modelos creados anteriormente se ponen en producción el 1 enero de 2022 y se tienen estimando la festividad durante todo el año para ver qué tal funcionan.\n",
    "\n",
    "Recuerda, no se debería ver ningún resultado sobre este dataset hasta haber completado todos los apartados anteriores."
   ]
  },
  {
   "attachments": {},
   "cell_type": "markdown",
   "id": "a06af4fa",
   "metadata": {},
   "source": [
    "Carga datos de validación"
   ]
  },
  {
   "cell_type": "code",
   "execution_count": null,
   "id": "4ec862eb",
   "metadata": {},
   "outputs": [],
   "source": [
    "#--------------------------NO ESCRIBAS LÍNEAS DE CÓDIGO MÁS LARGAS QUE LO QUE OCUPA ESTA LÍNEA -----------------------------|\n",
    "\n",
    "df_val = pd.read_csv('VAL_DATOS_DEM_C3.csv')\n",
    "\n",
    "# parseamos la fecha (cadena) para que sea un datetime con formato dd/mm/yyyy \n",
    "# esta variable NO se puede utilizar como entrada en los modelos\n",
    "df_val.FECHA = pd.to_datetime(df_val.FECHA, format='%d/%m/%Y') \n",
    "s=df_val.loc[:,'FECHA']\n",
    "df_val['FECHA'] =  s.dt.date\n",
    "\n",
    "# eliminamos las variables que no se pueden usar como entradas en los modelos\n",
    "del df_val['ANNO']\n",
    "del df_val['DIA']\n",
    "\n",
    "print('Tamaño de df_val con los datos cargados:', df_val.shape)\n",
    "print('Dataframe con todos los datos leidos (filas: días, columnas: variables):')\n",
    "print(df_val)"
   ]
  },
  {
   "attachments": {},
   "cell_type": "markdown",
   "id": "d065cf5e",
   "metadata": {},
   "source": [
    "#### 2.1. Compara los errores obtenidos en validación con los observados previamente en ajuste/test\n",
    "- Una vez terminados todos los ajustes de los modelos en el apartado 1.1., ejecuta los mismos para estimar si los días de 2022 son festivos o no (conjunto df_val)\n",
    "- Muestra los resultados de clasificación obtenidos en el nuevo dataset (accuray y tablas de confusión de cada modelo)\n",
    "- Discute si los errores obtenidos son coherentes con lo que se esperaba como resultado de los análisis previos para estimar la capacidad de generalización de cada uno de los modelos"
   ]
  },
  {
   "cell_type": "code",
   "execution_count": null,
   "id": "cf4035ce",
   "metadata": {},
   "outputs": [],
   "source": [
    "#--------------------------NO ESCRIBAS LÍNEAS DE CÓDIGO MÁS LARGAS QUE LO QUE OCUPA ESTA LÍNEA -----------------------------|\n"
   ]
  },
  {
   "attachments": {},
   "cell_type": "markdown",
   "id": "7ce07401",
   "metadata": {},
   "source": [
    "#### 2.2. Análisis de los días peor clasificados\n",
    "- Indica en una tabla la lista de los días que se han clasificado incorrectamente por cada uno de los modelos considerados\n",
    "- Comenta las posibles diferencias y semejanzas, intentando buscar una justificación de por qué ha ocurrido el error de clasificación\n",
    "- Muestra gráficamente los perfiles de 24 horas de los 3 días más difíciles de clasificar para los modelos, comparándolos con lo esperado según el día de la semana correspondiente"
   ]
  },
  {
   "cell_type": "code",
   "execution_count": null,
   "id": "224113ef",
   "metadata": {},
   "outputs": [],
   "source": [
    "#--------------------------NO ESCRIBAS LÍNEAS DE CÓDIGO MÁS LARGAS QUE LO QUE OCUPA ESTA LÍNEA -----------------------------|\n"
   ]
  }
 ],
 "metadata": {
  "kernelspec": {
   "display_name": "ML2",
   "language": "python",
   "name": "python3"
  },
  "language_info": {
   "codemirror_mode": {
    "name": "ipython",
    "version": 3
   },
   "file_extension": ".py",
   "mimetype": "text/x-python",
   "name": "python",
   "nbconvert_exporter": "python",
   "pygments_lexer": "ipython3",
   "version": "3.10.4"
  },
  "vscode": {
   "interpreter": {
    "hash": "0421c3a6f5b5e4f4165f028ab750df7aaa9af3d0625dd7029d98a96d225ead10"
   }
  }
 },
 "nbformat": 4,
 "nbformat_minor": 5
}
